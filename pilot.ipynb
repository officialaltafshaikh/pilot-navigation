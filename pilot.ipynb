{
  "nbformat": 4,
  "nbformat_minor": 0,
  "metadata": {
    "colab": {
      "name": "pilot.ipynb",
      "provenance": [],
      "collapsed_sections": []
    },
    "kernelspec": {
      "display_name": "Python 3",
      "name": "python3"
    },
    "language_info": {
      "name": "python"
    }
  },
  "cells": [
    {
      "cell_type": "code",
      "metadata": {
        "id": "36KDC3MkrKFG"
      },
      "source": [
        "num = int(input(\"Enter the altitude\"))\n",
        "if num == 3000:\n",
        "  print(\" Safe for land\")\n",
        "elif num > 3000 and num <= 6000:\n",
        "  print(\"altleast allow the pilot to try for landing\")\n",
        "elif num > 6000:\n",
        "  print(\"dont allow for landing\")\n",
        "else:\n",
        "  print(\"invalid altitude\")"
      ],
      "execution_count": null,
      "outputs": []
    },
    {
      "cell_type": "code",
      "metadata": {
        "id": "3Aiph-3mrTW9"
      },
      "source": [
        ""
      ],
      "execution_count": null,
      "outputs": []
    },
    {
      "cell_type": "code",
      "metadata": {
        "id": "3Zl6YR7Vrio3"
      },
      "source": [
        ""
      ],
      "execution_count": null,
      "outputs": []
    }
  ]
}